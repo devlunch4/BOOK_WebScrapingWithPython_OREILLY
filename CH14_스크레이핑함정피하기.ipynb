{
 "cells": [
  {
   "cell_type": "markdown",
   "id": "15dcb7a9",
   "metadata": {},
   "source": [
    "page 279\n",
    "page 282"
   ]
  },
  {
   "cell_type": "code",
   "execution_count": 1,
   "id": "cbbade14",
   "metadata": {},
   "outputs": [
    {
     "name": "stdout",
     "output_type": "stream",
     "text": [
      "<bound method PageElement.get_text of <table class=\"table table-striped table-data\">\n",
      "<tr>\n",
      "<th>Accept</th>\n",
      "<td>text/html,application/xhtml+xml,application/xml;q=0.9,image/webp,*/*;q=0.8</td>\n",
      "</tr>\n",
      "<tr>\n",
      "<th>Accept-Encoding</th>\n",
      "<td>gzip, deflate, br</td>\n",
      "</tr>\n",
      "<tr>\n",
      "<th>Connection</th>\n",
      "<td>keep-alive</td>\n",
      "</tr>\n",
      "<tr>\n",
      "<th>Content-Length</th>\n",
      "<td></td>\n",
      "</tr>\n",
      "<tr>\n",
      "<th>Content-Type</th>\n",
      "<td></td>\n",
      "</tr>\n",
      "<tr>\n",
      "<th>Host</th>\n",
      "<td>www.whatismybrowser.com</td>\n",
      "</tr>\n",
      "<tr>\n",
      "<th>User-Agent</th>\n",
      "<td>Mozilla/5.0 (Macintosh; Intel Mac OS X 10_9_5)AppleWebKit 537.36 (KHTML, like Gecko) Chrome</td>\n",
      "</tr>\n",
      "</table>>\n"
     ]
    }
   ],
   "source": [
    "import requests\n",
    "from bs4 import BeautifulSoup\n",
    "\n",
    "session = requests.Session()\n",
    "headers = {'User-Agent':'Mozilla/5.0 (Macintosh; Intel Mac OS X 10_9_5)'\\\n",
    "           'AppleWebKit 537.36 (KHTML, like Gecko) Chrome',\n",
    "           'Accept':'text/html,application/xhtml+xml,application/xml;'\\\n",
    "           'q=0.9,image/webp,*/*;q=0.8'}\n",
    "url = 'https://www.whatismybrowser.com/'\\\n",
    "'developers/what-http-headers-is-my-browser-sending'\n",
    "req = session.get(url, headers=headers)\n",
    "\n",
    "bs = BeautifulSoup(req.text, 'html.parser')\n",
    "print(bs.find('table',{'class':'table-striped'}).get_text)"
   ]
  },
  {
   "cell_type": "code",
   "execution_count": 2,
   "id": "ae77b91b",
   "metadata": {},
   "outputs": [
    {
     "name": "stdout",
     "output_type": "stream",
     "text": [
      "[{'domain': 'pythonscraping.com', 'expiry': 1639414047, 'httpOnly': True, 'name': 'wfvt_712875861', 'path': '/', 'secure': False, 'value': '61b7721723a12'}]\n"
     ]
    }
   ],
   "source": [
    "from selenium import webdriver\n",
    "from selenium.webdriver.chrome.options import Options\n",
    "chrome_options = Options()\n",
    "chrome_options.add_argument(\"--headless\")\n",
    "driver = webdriver.Chrome(\n",
    "    executable_path='drivers/chromedriver') #, \n",
    "#    chrome_options=chrome_options)\n",
    "driver.get('http://pythonscraping.com')\n",
    "driver.implicitly_wait(1)\n",
    "print(driver.get_cookies())\n",
    "#추가분\n",
    "driver.close()"
   ]
  },
  {
   "cell_type": "code",
   "execution_count": 6,
   "id": "b71b245e",
   "metadata": {},
   "outputs": [
    {
     "name": "stdout",
     "output_type": "stream",
     "text": [
      "[{'domain': 'pythonscraping.com', 'expiry': 1639414431, 'httpOnly': True, 'name': 'wfvt_712875861', 'path': '/', 'secure': False, 'value': '61b7739785e72'}]\n"
     ]
    }
   ],
   "source": [
    "from selenium import webdriver\n",
    "from selenium.webdriver.chrome.options import Options\n",
    "\n",
    "chrome_options = Options()\n",
    "chrome_options.add_argument(\"--headless\")\n",
    "\n",
    "driver = webdriver.Chrome(\n",
    "    executable_path='drivers/chromedriver')#, \n",
    "    #chrome_options=chrome_options)\n",
    "driver.get('http://pythonscraping.com')\n",
    "driver.implicitly_wait(1)\n",
    "\n",
    "savedCookies = driver.get_cookies()\n",
    "print(savedCookies)\n",
    "\n",
    "#추가분\n",
    "#driver.close()\n",
    "\n"
   ]
  },
  {
   "cell_type": "code",
   "execution_count": 7,
   "id": "64c58b7c",
   "metadata": {},
   "outputs": [
    {
     "name": "stdout",
     "output_type": "stream",
     "text": [
      "[{'domain': 'pythonscraping.com', 'expiry': 1639414438, 'httpOnly': True, 'name': 'wfvt_712875861', 'path': '/', 'secure': False, 'value': '61b7739ea7d06'}, {'domain': '.pythonscraping.com', 'expiry': 1639414431, 'httpOnly': True, 'name': 'wfvt_712875861', 'path': '/', 'secure': True, 'value': '61b7739785e72'}]\n"
     ]
    }
   ],
   "source": [
    "driver2 = webdriver.Chrome(\n",
    "    executable_path='drivers/chromedriver')#, \n",
    "    #chrome_options=chrome_options)\n",
    "\n",
    "driver2.get('http://pythonscraping.com')\n",
    "driver2.delete_all_cookies()\n",
    "for cookie in savedCookies:\n",
    "    driver2.add_cookie(cookie)\n",
    "\n",
    "driver2.get('http://pythonscraping.com')\n",
    "driver.implicitly_wait(1)\n",
    "print(driver2.get_cookies())\n",
    "\n",
    "#추가분\n",
    "driver.close();\n",
    "driver2.close();"
   ]
  },
  {
   "cell_type": "code",
   "execution_count": 10,
   "id": "6a8f1847",
   "metadata": {},
   "outputs": [
    {
     "name": "stdout",
     "output_type": "stream",
     "text": [
      "The link http://pythonscraping.com/dontgohere is a trap\n",
      "Do not change value of phone\n",
      "Do not change value of email\n"
     ]
    }
   ],
   "source": [
    "from selenium import webdriver\n",
    "from selenium.webdriver.remote.webelement import WebElement\n",
    "from selenium.webdriver.chrome.options import Options\n",
    "\n",
    "driver = webdriver.Chrome(\n",
    "    executable_path='drivers/chromedriver')#,\n",
    "    #chrome_options=chrome_options)\n",
    "driver.get('http://pythonscraping.com/pages/itsatrap.html')\n",
    "links = driver.find_elements_by_tag_name('a')\n",
    "for link in links:\n",
    "    if not link.is_displayed():\n",
    "        print('The link {} is a trap'.format(link.get_attribute('href')))\n",
    "\n",
    "fields = driver.find_elements_by_tag_name('input')\n",
    "for field in fields:\n",
    "    if not field.is_displayed():\n",
    "        print('Do not change value of {}'.format(field.get_attribute('name')))"
   ]
  },
  {
   "cell_type": "code",
   "execution_count": null,
   "id": "f482b2ea",
   "metadata": {},
   "outputs": [],
   "source": []
  }
 ],
 "metadata": {
  "kernelspec": {
   "display_name": "Python 3 (ipykernel)",
   "language": "python",
   "name": "python3"
  },
  "language_info": {
   "codemirror_mode": {
    "name": "ipython",
    "version": 3
   },
   "file_extension": ".py",
   "mimetype": "text/x-python",
   "name": "python",
   "nbconvert_exporter": "python",
   "pygments_lexer": "ipython3",
   "version": "3.8.12"
  }
 },
 "nbformat": 4,
 "nbformat_minor": 5
}
