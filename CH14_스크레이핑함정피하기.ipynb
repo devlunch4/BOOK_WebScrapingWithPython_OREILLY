{
 "cells": [
  {
   "cell_type": "markdown",
   "id": "15dcb7a9",
   "metadata": {},
   "source": [
    "page 279"
   ]
  },
  {
   "cell_type": "code",
   "execution_count": null,
   "id": "cbbade14",
   "metadata": {},
   "outputs": [],
   "source": []
  }
 ],
 "metadata": {
  "kernelspec": {
   "display_name": "Python 3 (ipykernel)",
   "language": "python",
   "name": "python3"
  },
  "language_info": {
   "codemirror_mode": {
    "name": "ipython",
    "version": 3
   },
   "file_extension": ".py",
   "mimetype": "text/x-python",
   "name": "python",
   "nbconvert_exporter": "python",
   "pygments_lexer": "ipython3",
   "version": "3.8.12"
  }
 },
 "nbformat": 4,
 "nbformat_minor": 5
}
