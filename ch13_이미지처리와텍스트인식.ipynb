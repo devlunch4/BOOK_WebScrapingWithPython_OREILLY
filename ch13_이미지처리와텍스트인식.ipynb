{
 "cells": [
  {
   "cell_type": "markdown",
   "id": "9b3f1016",
   "metadata": {},
   "source": [
    "page 252"
   ]
  },
  {
   "cell_type": "code",
   "execution_count": 4,
   "id": "8e9573c1",
   "metadata": {},
   "outputs": [],
   "source": [
    "from PIL import Image, ImageFilter\n",
    "\n",
    "kitten = Image.open('kitten.jpg')\n",
    "blurrykitten = kitten.filter(ImageFilter.GaussianBlur)\n",
    "blurrykitten.save('kitten_blurred.jpg')\n",
    "blurrykitten.show()"
   ]
  },
  {
   "cell_type": "markdown",
   "id": "daef1331",
   "metadata": {},
   "source": [
    "page 255"
   ]
  }
 ],
 "metadata": {
  "kernelspec": {
   "display_name": "Python 3 (ipykernel)",
   "language": "python",
   "name": "python3"
  },
  "language_info": {
   "codemirror_mode": {
    "name": "ipython",
    "version": 3
   },
   "file_extension": ".py",
   "mimetype": "text/x-python",
   "name": "python",
   "nbconvert_exporter": "python",
   "pygments_lexer": "ipython3",
   "version": "3.8.12"
  }
 },
 "nbformat": 4,
 "nbformat_minor": 5
}
