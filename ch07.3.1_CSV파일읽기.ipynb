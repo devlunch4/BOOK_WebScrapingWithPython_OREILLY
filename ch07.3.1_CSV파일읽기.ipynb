{
 "cells": [
  {
   "cell_type": "code",
   "execution_count": 1,
   "id": "2c8c02d9",
   "metadata": {},
   "outputs": [],
   "source": [
    "# page153"
   ]
  },
  {
   "cell_type": "code",
   "execution_count": 2,
   "id": "85aa8016",
   "metadata": {},
   "outputs": [],
   "source": [
    "from urllib.request import urlopen\n",
    "from io import StringIO\n",
    "import csv"
   ]
  },
  {
   "cell_type": "code",
   "execution_count": 3,
   "id": "dabeacb0",
   "metadata": {},
   "outputs": [
    {
     "name": "stdout",
     "output_type": "stream",
     "text": [
      "['Name', 'Year']\n",
      "The album \"Name\" was released in Year\n",
      "\n",
      "[\"Monty Python's Flying Circus\", '1970']\n",
      "The album \"Monty Python's Flying Circus\" was released in 1970\n",
      "\n",
      "['Another Monty Python Record', '1971']\n",
      "The album \"Another Monty Python Record\" was released in 1971\n",
      "\n",
      "[\"Monty Python's Previous Record\", '1972']\n",
      "The album \"Monty Python's Previous Record\" was released in 1972\n",
      "\n",
      "['The Monty Python Matching Tie and Handkerchief', '1973']\n",
      "The album \"The Monty Python Matching Tie and Handkerchief\" was released in 1973\n",
      "\n",
      "['Monty Python Live at Drury Lane', '1974']\n",
      "The album \"Monty Python Live at Drury Lane\" was released in 1974\n",
      "\n",
      "['An Album of the Soundtrack of the Trailer of the Film of Monty Python and the Holy Grail', '1975']\n",
      "The album \"An Album of the Soundtrack of the Trailer of the Film of Monty Python and the Holy Grail\" was released in 1975\n",
      "\n",
      "['Monty Python Live at City Center', '1977']\n",
      "The album \"Monty Python Live at City Center\" was released in 1977\n",
      "\n",
      "['The Monty Python Instant Record Collection', '1977']\n",
      "The album \"The Monty Python Instant Record Collection\" was released in 1977\n",
      "\n",
      "[\"Monty Python's Life of Brian\", '1979']\n",
      "The album \"Monty Python's Life of Brian\" was released in 1979\n",
      "\n",
      "[\"Monty Python's Cotractual Obligation Album\", '1980']\n",
      "The album \"Monty Python's Cotractual Obligation Album\" was released in 1980\n",
      "\n",
      "[\"Monty Python's The Meaning of Life\", '1983']\n",
      "The album \"Monty Python's The Meaning of Life\" was released in 1983\n",
      "\n",
      "['The Final Rip Off', '1987']\n",
      "The album \"The Final Rip Off\" was released in 1987\n",
      "\n",
      "['Monty Python Sings', '1989']\n",
      "The album \"Monty Python Sings\" was released in 1989\n",
      "\n",
      "['The Ultimate Monty Python Rip Off', '1994']\n",
      "The album \"The Ultimate Monty Python Rip Off\" was released in 1994\n",
      "\n",
      "['Monty Python Sings Again', '2014']\n",
      "The album \"Monty Python Sings Again\" was released in 2014\n",
      "\n"
     ]
    }
   ],
   "source": [
    "data = urlopen('http://pythonscraping.com/files/MontyPythonAlbums.csv').read().decode('ascii', 'ignore')\n",
    "dataFile = StringIO(data)\n",
    "csvReader = csv.reader(dataFile)\n",
    "\n",
    "for row in csvReader:\n",
    "    print(row)\n",
    "    print(\"The album \\\"\"+row[0]+\"\\\" was released in \"+str(row[1]))\n",
    "    print()"
   ]
  },
  {
   "cell_type": "code",
   "execution_count": null,
   "id": "e7b533a5",
   "metadata": {},
   "outputs": [],
   "source": []
  }
 ],
 "metadata": {
  "kernelspec": {
   "display_name": "Python 3",
   "language": "python",
   "name": "python3"
  },
  "language_info": {
   "codemirror_mode": {
    "name": "ipython",
    "version": 3
   },
   "file_extension": ".py",
   "mimetype": "text/x-python",
   "name": "python",
   "nbconvert_exporter": "python",
   "pygments_lexer": "ipython3",
   "version": "3.8.8"
  }
 },
 "nbformat": 4,
 "nbformat_minor": 5
}
